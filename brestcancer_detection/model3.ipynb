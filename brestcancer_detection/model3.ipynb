{
 "cells": [
  {
   "cell_type": "code",
   "id": "initial_id",
   "metadata": {
    "collapsed": true,
    "jupyter": {
     "is_executing": true
    },
    "ExecuteTime": {
     "start_time": "2024-09-27T13:35:35.675704Z"
    }
   },
   "source": [
    "import tensorflow as tf\n",
    "from tensorflow.keras import layers, Model\n",
    "from tensorflow.keras.applications import EfficientNetV2B0  # Use a lighter version\n",
    "from tensorflow.keras.datasets import cifar10\n",
    "from tensorflow.keras.utils import to_categorical\n",
    "\n",
    "# Load the CIFAR-10 dataset\n",
    "(x_train, y_train), (x_test, y_test) = cifar10.load_data()\n",
    "\n",
    "# Normalize the dataset\n",
    "x_train = x_train.astype('float32') / 255.0\n",
    "x_test = x_test.astype('float32') / 255.0\n",
    "\n",
    "# Resize images to 128x128 to reduce memory usage\n",
    "x_train_resized = tf.image.resize(x_train, (128, 128))\n",
    "x_test_resized = tf.image.resize(x_test, (128, 128))\n",
    "\n",
    "# One-hot encode labels\n",
    "y_train_categorical = to_categorical(y_train, 10)\n",
    "y_test_categorical = to_categorical(y_test, 10)\n",
    "\n",
    "# EfficientNetV2B0 Branch\n",
    "input_efficientnet = layers.Input(shape=(128, 128, 3))\n",
    "efficient_net = EfficientNetV2B0(include_top=False, weights='imagenet', input_shape=(128, 128, 3))\n",
    "x_efficient = efficient_net(input_efficientnet)\n",
    "x_efficient = layers.Flatten()(x_efficient)\n",
    "\n",
    "# Dense Layers\n",
    "x = layers.Dense(128, activation='relu')(x_efficient)\n",
    "x = layers.Dense(64, activation='relu')(x)\n",
    "\n",
    "# Output Layer\n",
    "output = layers.Dense(10, activation='softmax')(x)\n",
    "\n",
    "# Define the final model\n",
    "model = Model(inputs=input_efficientnet, outputs=output)\n",
    "\n",
    "# Compile the model\n",
    "model.compile(optimizer='adam', loss='categorical_crossentropy', metrics=['accuracy'])\n",
    "\n",
    "# Print model summary\n",
    "model.summary()\n",
    "\n",
    "# Create TensorFlow datasets for training and testing\n",
    "train_dataset = tf.data.Dataset.from_tensor_slices((x_train_resized, y_train_categorical)).batch(8).prefetch(tf.data.AUTOTUNE)\n",
    "test_dataset = tf.data.Dataset.from_tensor_slices((x_test_resized, y_test_categorical)).batch(8).prefetch(tf.data.AUTOTUNE)\n",
    "\n",
    "# Train the model\n",
    "model.fit(train_dataset, epochs=10, validation_data=test_dataset)\n",
    "\n",
    "# Evaluate the model\n",
    "test_loss, test_acc = model.evaluate(test_dataset, verbose=2)\n",
    "print(f\"Test Accuracy: {test_acc * 100:.2f}%\")\n"
   ],
   "outputs": [],
   "execution_count": null
  },
  {
   "metadata": {},
   "cell_type": "code",
   "outputs": [],
   "execution_count": null,
   "source": "",
   "id": "d0f34f6936b7d89a"
  }
 ],
 "metadata": {
  "kernelspec": {
   "display_name": "Python 3",
   "language": "python",
   "name": "python3"
  },
  "language_info": {
   "codemirror_mode": {
    "name": "ipython",
    "version": 2
   },
   "file_extension": ".py",
   "mimetype": "text/x-python",
   "name": "python",
   "nbconvert_exporter": "python",
   "pygments_lexer": "ipython2",
   "version": "2.7.6"
  }
 },
 "nbformat": 4,
 "nbformat_minor": 5
}
