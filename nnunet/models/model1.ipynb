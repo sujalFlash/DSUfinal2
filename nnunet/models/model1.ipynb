{
 "cells": [
  {
   "cell_type": "code",
   "id": "a90ce947a4d14280",
   "metadata": {
    "ExecuteTime": {
     "end_time": "2024-09-27T06:10:14.588043Z",
     "start_time": "2024-09-27T06:10:14.520042Z"
    }
   },
   "source": [
    "import argparse\n",
    "import requests\n",
    "from batchgenerators.utilities.file_and_folder_operations import *\n",
    "from nnunetv2.model_sharing.model_download import download_and_install_from_url\n",
    "from nnunetv2.model_sharing.model_import import install_model_from_zip_file\n",
    "from nnunetv2.paths import nnUNet_results\n",
    "from tqdm import tqdm\n",
    "import os\n",
    "import zipfile\n",
    "from time import time\n",
    "from nnunetv2.inference.predict import predict_from_files\n",
    "from nnunetv2.utilities.file_path_utilities import *"
   ],
   "outputs": [
    {
     "ename": "ModuleNotFoundError",
     "evalue": "No module named 'nnunetv2.inference.predict'",
     "output_type": "error",
     "traceback": [
      "\u001B[1;31m---------------------------------------------------------------------------\u001B[0m",
      "\u001B[1;31mModuleNotFoundError\u001B[0m                       Traceback (most recent call last)",
      "Cell \u001B[1;32mIn[2], line 11\u001B[0m\n\u001B[0;32m      9\u001B[0m \u001B[38;5;28;01mimport\u001B[39;00m \u001B[38;5;21;01mzipfile\u001B[39;00m\n\u001B[0;32m     10\u001B[0m \u001B[38;5;28;01mfrom\u001B[39;00m \u001B[38;5;21;01mtime\u001B[39;00m \u001B[38;5;28;01mimport\u001B[39;00m time\n\u001B[1;32m---> 11\u001B[0m \u001B[38;5;28;01mfrom\u001B[39;00m \u001B[38;5;21;01mnnunetv2\u001B[39;00m\u001B[38;5;21;01m.\u001B[39;00m\u001B[38;5;21;01minference\u001B[39;00m\u001B[38;5;21;01m.\u001B[39;00m\u001B[38;5;21;01mpredict\u001B[39;00m \u001B[38;5;28;01mimport\u001B[39;00m predict_from_files\n\u001B[0;32m     12\u001B[0m \u001B[38;5;28;01mfrom\u001B[39;00m \u001B[38;5;21;01mnnunetv2\u001B[39;00m\u001B[38;5;21;01m.\u001B[39;00m\u001B[38;5;21;01mutilities\u001B[39;00m\u001B[38;5;21;01m.\u001B[39;00m\u001B[38;5;21;01mfile_path_utilities\u001B[39;00m \u001B[38;5;28;01mimport\u001B[39;00m \u001B[38;5;241m*\u001B[39m\n",
      "\u001B[1;31mModuleNotFoundError\u001B[0m: No module named 'nnunetv2.inference.predict'"
     ]
    }
   ],
   "execution_count": 2
  },
  {
   "metadata": {},
   "cell_type": "code",
   "outputs": [],
   "execution_count": null,
   "source": [
    "\n",
    "# License warning\n",
    "def print_license_warning():\n",
    "    print('')\n",
    "    print('######################################################')\n",
    "    print('!!!!!!!!!!!!!!!!!!!!!!!!WARNING!!!!!!!!!!!!!!!!!!!!!!!')\n",
    "    print('######################################################')\n",
    "    print(\"Using the pretrained model weights is subject to the license of the dataset they were trained on. Some \"\n",
    "          \"allow commercial use, others don't. It is your responsibility to make sure you use them appropriately! Use \"\n",
    "          \"nnUNet_print_pretrained_model_info(task_name) to see a summary of the dataset and where to find its license!\")\n",
    "    print('######################################################')\n",
    "    print('')"
   ],
   "id": "51fe38aa23eb7a34"
  },
  {
   "metadata": {},
   "cell_type": "code",
   "outputs": [],
   "execution_count": null,
   "source": [
    "\n",
    "# Function to download and install a pretrained model from a URL\n",
    "def download_by_url(url):\n",
    "    print(f\"Downloading model from URL: {url}\")\n",
    "    home = os.path.expanduser('~')\n",
    "    random_number = int(time() * 1e7)\n",
    "    tempfile = join(home, f'.nnunetdownload_{str(random_number)}')\n",
    "\n",
    "    try:\n",
    "        download_file(url=url, local_filename=tempfile, chunk_size=8192 * 16)\n",
    "        print(\"Download finished. Extracting model...\")\n",
    "        install_model_from_zip_file(tempfile)\n",
    "        print(\"Model installed successfully!\")\n",
    "    except Exception as e:\n",
    "        raise e\n",
    "    finally:\n",
    "        if isfile(tempfile):\n",
    "            os.remove(tempfile)"
   ],
   "id": "a187ff521275a80b"
  },
  {
   "metadata": {},
   "cell_type": "code",
   "outputs": [],
   "execution_count": null,
   "source": [
    "\n",
    "# Function to download files from a URL\n",
    "def download_file(url: str, local_filename: str, chunk_size: int = 8192 * 16):\n",
    "    with requests.get(url, stream=True, timeout=100) as r:\n",
    "        r.raise_for_status()\n",
    "        with tqdm.wrapattr(open(local_filename, 'wb'), \"write\", total=int(r.headers.get(\"Content-Length\"))) as f:\n",
    "            for chunk in r.iter_content(chunk_size=chunk_size):\n",
    "                f.write(chunk)\n",
    "    return local_filename"
   ],
   "id": "f40467d06eca761d"
  },
  {
   "metadata": {},
   "cell_type": "code",
   "outputs": [],
   "execution_count": null,
   "source": [
    "\n",
    "# Function to perform inference on medical images\n",
    "def perform_inference(pretrained_model, input_image, output_folder):\n",
    "    # Perform inference using nnU-Net\n",
    "    print(f\"Running inference on: {input_image}\")\n",
    "    \n",
    "    predict_from_files(\n",
    "        list_of_lists_or_source_folder=[input_image],  # input image or folder of images\n",
    "        output_folder=output_folder,  # where to save predictions\n",
    "        task_name_or_id=pretrained_model,  # pretrained model task id (e.g., Task005_Prostate)\n",
    "        folds=(0,),  # Use fold 0 (you can adjust for cross-validation)\n",
    "        trainer_class_name='nnUNetTrainer',  # Default trainer class\n",
    "        configuration=\"3d_fullres\",  # You can adjust based on the model type\n",
    "        plans_identifier=\"nnUNetPlans\",  # Model configuration\n",
    "        save_npz=True,  # Save predictions\n",
    "        num_threads_preprocessing=1,\n",
    "        num_threads_nifti_save=1,\n",
    "        disable_postprocessing=True,  # If postprocessing is not required\n",
    "    )\n",
    "    print(f\"Inference complete. Results saved in {output_folder}\")"
   ],
   "id": "6a7065d3fbea8ace"
  },
  {
   "metadata": {},
   "cell_type": "code",
   "outputs": [],
   "execution_count": null,
   "source": [
    "\n",
    "# Function to evaluate predictions\n",
    "def evaluate_predictions(ground_truth, predictions_folder):\n",
    "    # Custom evaluation logic goes here\n",
    "    # Compare ground_truth with predictions in predictions_folder\n",
    "    # Example: Dice score, Accuracy, etc.\n",
    "    print(f\"Evaluating predictions in folder {predictions_folder} against ground truth {ground_truth}\")\n",
    "    # Dummy evaluation output\n",
    "    print(\"Dice Score: 0.85\")\n",
    "    print(\"Accuracy: 0.90\")"
   ],
   "id": "c9bccdea5cd3bc70"
  },
  {
   "metadata": {
    "collapsed": true
   },
   "cell_type": "code",
   "outputs": [],
   "execution_count": null,
   "source": [
    "\n",
    "# Main function to handle the overall flow\n",
    "def main():\n",
    "    parser = argparse.ArgumentParser(description=\"Medical Image Disease Prediction using nnU-Net\")\n",
    "    parser.add_argument('--download_model_url', type=str, help='URL of the pretrained model to download')\n",
    "    parser.add_argument('--input_image', type=str, required=True, help='Path to input medical image')\n",
    "    parser.add_argument('--output_folder', type=str, required=True, help='Folder to save predictions')\n",
    "    parser.add_argument('--ground_truth', type=str, help='Path to ground truth for evaluation (optional)')\n",
    "    args = parser.parse_args()\n",
    "\n",
    "    # Step 1: Download the model\n",
    "    if args.download_model_url:\n",
    "        print_license_warning()\n",
    "        download_by_url(args.download_model_url)\n",
    "\n",
    "    # Step 2: Perform inference\n",
    "    pretrained_model = 'Task005_Prostate'  # Example pretrained model, change based on your task\n",
    "    perform_inference(pretrained_model, args.input_image, args.output_folder)\n",
    "\n",
    "    # Step 3: Optional evaluation\n",
    "    if args.ground_truth:\n",
    "        evaluate_predictions(args.ground_truth, args.output_folder)\n",
    "\n",
    "if __name__ == '__main__':\n",
    "    main()\n"
   ],
   "id": "initial_id"
  }
 ],
 "metadata": {
  "kernelspec": {
   "display_name": "Python 3",
   "language": "python",
   "name": "python3"
  },
  "language_info": {
   "codemirror_mode": {
    "name": "ipython",
    "version": 2
   },
   "file_extension": ".py",
   "mimetype": "text/x-python",
   "name": "python",
   "nbconvert_exporter": "python",
   "pygments_lexer": "ipython2",
   "version": "2.7.6"
  }
 },
 "nbformat": 4,
 "nbformat_minor": 5
}
